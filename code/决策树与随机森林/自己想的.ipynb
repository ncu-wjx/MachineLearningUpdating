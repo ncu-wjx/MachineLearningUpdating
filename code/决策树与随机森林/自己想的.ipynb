{
 "cells": [
  {
   "cell_type": "code",
   "execution_count": 1,
   "metadata": {},
   "outputs": [],
   "source": [
    "from sklearn import tree\n",
    "from sklearn.datasets import load_wine\n",
    "from sklearn.model_selection import train_test_split\n",
    "%matplotlib inline"
   ]
  },
  {
   "cell_type": "code",
   "execution_count": 2,
   "metadata": {},
   "outputs": [],
   "source": [
    "wine = load_wine()\n",
    "X=wine.data\n",
    "Y=wine.target"
   ]
  },
  {
   "cell_type": "code",
   "execution_count": 3,
   "metadata": {},
   "outputs": [
    {
     "data": {
      "text/plain": [
       "{'DESCR': '.. _wine_dataset:\\n\\nWine recognition dataset\\n------------------------\\n\\n**Data Set Characteristics:**\\n\\n    :Number of Instances: 178 (50 in each of three classes)\\n    :Number of Attributes: 13 numeric, predictive attributes and the class\\n    :Attribute Information:\\n \\t\\t- Alcohol\\n \\t\\t- Malic acid\\n \\t\\t- Ash\\n\\t\\t- Alcalinity of ash  \\n \\t\\t- Magnesium\\n\\t\\t- Total phenols\\n \\t\\t- Flavanoids\\n \\t\\t- Nonflavanoid phenols\\n \\t\\t- Proanthocyanins\\n\\t\\t- Color intensity\\n \\t\\t- Hue\\n \\t\\t- OD280/OD315 of diluted wines\\n \\t\\t- Proline\\n\\n    - class:\\n            - class_0\\n            - class_1\\n            - class_2\\n\\t\\t\\n    :Summary Statistics:\\n    \\n    ============================= ==== ===== ======= =====\\n                                   Min   Max   Mean     SD\\n    ============================= ==== ===== ======= =====\\n    Alcohol:                      11.0  14.8    13.0   0.8\\n    Malic Acid:                   0.74  5.80    2.34  1.12\\n    Ash:                          1.36  3.23    2.36  0.27\\n    Alcalinity of Ash:            10.6  30.0    19.5   3.3\\n    Magnesium:                    70.0 162.0    99.7  14.3\\n    Total Phenols:                0.98  3.88    2.29  0.63\\n    Flavanoids:                   0.34  5.08    2.03  1.00\\n    Nonflavanoid Phenols:         0.13  0.66    0.36  0.12\\n    Proanthocyanins:              0.41  3.58    1.59  0.57\\n    Colour Intensity:              1.3  13.0     5.1   2.3\\n    Hue:                          0.48  1.71    0.96  0.23\\n    OD280/OD315 of diluted wines: 1.27  4.00    2.61  0.71\\n    Proline:                       278  1680     746   315\\n    ============================= ==== ===== ======= =====\\n\\n    :Missing Attribute Values: None\\n    :Class Distribution: class_0 (59), class_1 (71), class_2 (48)\\n    :Creator: R.A. Fisher\\n    :Donor: Michael Marshall (MARSHALL%PLU@io.arc.nasa.gov)\\n    :Date: July, 1988\\n\\nThis is a copy of UCI ML Wine recognition datasets.\\nhttps://archive.ics.uci.edu/ml/machine-learning-databases/wine/wine.data\\n\\nThe data is the results of a chemical analysis of wines grown in the same\\nregion in Italy by three different cultivators. There are thirteen different\\nmeasurements taken for different constituents found in the three types of\\nwine.\\n\\nOriginal Owners: \\n\\nForina, M. et al, PARVUS - \\nAn Extendible Package for Data Exploration, Classification and Correlation. \\nInstitute of Pharmaceutical and Food Analysis and Technologies,\\nVia Brigata Salerno, 16147 Genoa, Italy.\\n\\nCitation:\\n\\nLichman, M. (2013). UCI Machine Learning Repository\\n[https://archive.ics.uci.edu/ml]. Irvine, CA: University of California,\\nSchool of Information and Computer Science. \\n\\n.. topic:: References\\n\\n  (1) S. Aeberhard, D. Coomans and O. de Vel, \\n  Comparison of Classifiers in High Dimensional Settings, \\n  Tech. Rep. no. 92-02, (1992), Dept. of Computer Science and Dept. of  \\n  Mathematics and Statistics, James Cook University of North Queensland. \\n  (Also submitted to Technometrics). \\n\\n  The data was used with many others for comparing various \\n  classifiers. The classes are separable, though only RDA \\n  has achieved 100% correct classification. \\n  (RDA : 100%, QDA 99.4%, LDA 98.9%, 1NN 96.1% (z-transformed data)) \\n  (All results using the leave-one-out technique) \\n\\n  (2) S. Aeberhard, D. Coomans and O. de Vel, \\n  \"THE CLASSIFICATION PERFORMANCE OF RDA\" \\n  Tech. Rep. no. 92-01, (1992), Dept. of Computer Science and Dept. of \\n  Mathematics and Statistics, James Cook University of North Queensland. \\n  (Also submitted to Journal of Chemometrics).\\n',\n",
       " 'data': array([[1.423e+01, 1.710e+00, 2.430e+00, ..., 1.040e+00, 3.920e+00,\n",
       "         1.065e+03],\n",
       "        [1.320e+01, 1.780e+00, 2.140e+00, ..., 1.050e+00, 3.400e+00,\n",
       "         1.050e+03],\n",
       "        [1.316e+01, 2.360e+00, 2.670e+00, ..., 1.030e+00, 3.170e+00,\n",
       "         1.185e+03],\n",
       "        ...,\n",
       "        [1.327e+01, 4.280e+00, 2.260e+00, ..., 5.900e-01, 1.560e+00,\n",
       "         8.350e+02],\n",
       "        [1.317e+01, 2.590e+00, 2.370e+00, ..., 6.000e-01, 1.620e+00,\n",
       "         8.400e+02],\n",
       "        [1.413e+01, 4.100e+00, 2.740e+00, ..., 6.100e-01, 1.600e+00,\n",
       "         5.600e+02]]),\n",
       " 'feature_names': ['alcohol',\n",
       "  'malic_acid',\n",
       "  'ash',\n",
       "  'alcalinity_of_ash',\n",
       "  'magnesium',\n",
       "  'total_phenols',\n",
       "  'flavanoids',\n",
       "  'nonflavanoid_phenols',\n",
       "  'proanthocyanins',\n",
       "  'color_intensity',\n",
       "  'hue',\n",
       "  'od280/od315_of_diluted_wines',\n",
       "  'proline'],\n",
       " 'target': array([0, 0, 0, 0, 0, 0, 0, 0, 0, 0, 0, 0, 0, 0, 0, 0, 0, 0, 0, 0, 0, 0,\n",
       "        0, 0, 0, 0, 0, 0, 0, 0, 0, 0, 0, 0, 0, 0, 0, 0, 0, 0, 0, 0, 0, 0,\n",
       "        0, 0, 0, 0, 0, 0, 0, 0, 0, 0, 0, 0, 0, 0, 0, 1, 1, 1, 1, 1, 1, 1,\n",
       "        1, 1, 1, 1, 1, 1, 1, 1, 1, 1, 1, 1, 1, 1, 1, 1, 1, 1, 1, 1, 1, 1,\n",
       "        1, 1, 1, 1, 1, 1, 1, 1, 1, 1, 1, 1, 1, 1, 1, 1, 1, 1, 1, 1, 1, 1,\n",
       "        1, 1, 1, 1, 1, 1, 1, 1, 1, 1, 1, 1, 1, 1, 1, 1, 1, 1, 1, 1, 2, 2,\n",
       "        2, 2, 2, 2, 2, 2, 2, 2, 2, 2, 2, 2, 2, 2, 2, 2, 2, 2, 2, 2, 2, 2,\n",
       "        2, 2, 2, 2, 2, 2, 2, 2, 2, 2, 2, 2, 2, 2, 2, 2, 2, 2, 2, 2, 2, 2,\n",
       "        2, 2]),\n",
       " 'target_names': array(['class_0', 'class_1', 'class_2'], dtype='<U7')}"
      ]
     },
     "execution_count": 3,
     "metadata": {},
     "output_type": "execute_result"
    }
   ],
   "source": [
    "wine"
   ]
  },
  {
   "cell_type": "code",
   "execution_count": 4,
   "metadata": {},
   "outputs": [
    {
     "name": "stdout",
     "output_type": "stream",
     "text": [
      "178\n",
      "124\n"
     ]
    }
   ],
   "source": [
    "datalens=len(X)\n",
    "print(datalens)\n",
    "precentage=0.7\n",
    "train_size=int(datalens*precentage)\n",
    "print(train_size)"
   ]
  },
  {
   "cell_type": "code",
   "execution_count": 8,
   "metadata": {},
   "outputs": [
    {
     "data": {
      "text/plain": [
       "array([[1.423e+01, 1.710e+00, 2.430e+00, ..., 1.040e+00, 3.920e+00,\n",
       "        1.065e+03],\n",
       "       [1.320e+01, 1.780e+00, 2.140e+00, ..., 1.050e+00, 3.400e+00,\n",
       "        1.050e+03],\n",
       "       [1.316e+01, 2.360e+00, 2.670e+00, ..., 1.030e+00, 3.170e+00,\n",
       "        1.185e+03],\n",
       "       ...,\n",
       "       [1.156e+01, 2.050e+00, 3.230e+00, ..., 9.300e-01, 3.690e+00,\n",
       "        4.650e+02],\n",
       "       [1.242e+01, 4.430e+00, 2.730e+00, ..., 9.200e-01, 3.120e+00,\n",
       "        3.650e+02],\n",
       "       [1.305e+01, 5.800e+00, 2.130e+00, ..., 7.300e-01, 3.100e+00,\n",
       "        3.800e+02]])"
      ]
     },
     "execution_count": 8,
     "metadata": {},
     "output_type": "execute_result"
    }
   ],
   "source": [
    "Xtrain=X[0:train_size,:]\n",
    "Xtrain"
   ]
  },
  {
   "cell_type": "code",
   "execution_count": 9,
   "metadata": {},
   "outputs": [
    {
     "data": {
      "text/plain": [
       "array([[1.187000e+01, 4.310000e+00, 2.390000e+00, 2.100000e+01,\n",
       "        8.200000e+01, 2.860000e+00, 3.030000e+00, 2.100000e-01,\n",
       "        2.910000e+00, 2.800000e+00, 7.500000e-01, 3.640000e+00,\n",
       "        3.800000e+02],\n",
       "       [1.207000e+01, 2.160000e+00, 2.170000e+00, 2.100000e+01,\n",
       "        8.500000e+01, 2.600000e+00, 2.650000e+00, 3.700000e-01,\n",
       "        1.350000e+00, 2.760000e+00, 8.600000e-01, 3.280000e+00,\n",
       "        3.780000e+02],\n",
       "       [1.243000e+01, 1.530000e+00, 2.290000e+00, 2.150000e+01,\n",
       "        8.600000e+01, 2.740000e+00, 3.150000e+00, 3.900000e-01,\n",
       "        1.770000e+00, 3.940000e+00, 6.900000e-01, 2.840000e+00,\n",
       "        3.520000e+02],\n",
       "       [1.179000e+01, 2.130000e+00, 2.780000e+00, 2.850000e+01,\n",
       "        9.200000e+01, 2.130000e+00, 2.240000e+00, 5.800000e-01,\n",
       "        1.760000e+00, 3.000000e+00, 9.700000e-01, 2.440000e+00,\n",
       "        4.660000e+02],\n",
       "       [1.237000e+01, 1.630000e+00, 2.300000e+00, 2.450000e+01,\n",
       "        8.800000e+01, 2.220000e+00, 2.450000e+00, 4.000000e-01,\n",
       "        1.900000e+00, 2.120000e+00, 8.900000e-01, 2.780000e+00,\n",
       "        3.420000e+02],\n",
       "       [1.204000e+01, 4.300000e+00, 2.380000e+00, 2.200000e+01,\n",
       "        8.000000e+01, 2.100000e+00, 1.750000e+00, 4.200000e-01,\n",
       "        1.350000e+00, 2.600000e+00, 7.900000e-01, 2.570000e+00,\n",
       "        5.800000e+02],\n",
       "       [1.286000e+01, 1.350000e+00, 2.320000e+00, 1.800000e+01,\n",
       "        1.220000e+02, 1.510000e+00, 1.250000e+00, 2.100000e-01,\n",
       "        9.400000e-01, 4.100000e+00, 7.600000e-01, 1.290000e+00,\n",
       "        6.300000e+02],\n",
       "       [1.288000e+01, 2.990000e+00, 2.400000e+00, 2.000000e+01,\n",
       "        1.040000e+02, 1.300000e+00, 1.220000e+00, 2.400000e-01,\n",
       "        8.300000e-01, 5.400000e+00, 7.400000e-01, 1.420000e+00,\n",
       "        5.300000e+02],\n",
       "       [1.281000e+01, 2.310000e+00, 2.400000e+00, 2.400000e+01,\n",
       "        9.800000e+01, 1.150000e+00, 1.090000e+00, 2.700000e-01,\n",
       "        8.300000e-01, 5.700000e+00, 6.600000e-01, 1.360000e+00,\n",
       "        5.600000e+02],\n",
       "       [1.270000e+01, 3.550000e+00, 2.360000e+00, 2.150000e+01,\n",
       "        1.060000e+02, 1.700000e+00, 1.200000e+00, 1.700000e-01,\n",
       "        8.400000e-01, 5.000000e+00, 7.800000e-01, 1.290000e+00,\n",
       "        6.000000e+02],\n",
       "       [1.251000e+01, 1.240000e+00, 2.250000e+00, 1.750000e+01,\n",
       "        8.500000e+01, 2.000000e+00, 5.800000e-01, 6.000000e-01,\n",
       "        1.250000e+00, 5.450000e+00, 7.500000e-01, 1.510000e+00,\n",
       "        6.500000e+02],\n",
       "       [1.260000e+01, 2.460000e+00, 2.200000e+00, 1.850000e+01,\n",
       "        9.400000e+01, 1.620000e+00, 6.600000e-01, 6.300000e-01,\n",
       "        9.400000e-01, 7.100000e+00, 7.300000e-01, 1.580000e+00,\n",
       "        6.950000e+02],\n",
       "       [1.225000e+01, 4.720000e+00, 2.540000e+00, 2.100000e+01,\n",
       "        8.900000e+01, 1.380000e+00, 4.700000e-01, 5.300000e-01,\n",
       "        8.000000e-01, 3.850000e+00, 7.500000e-01, 1.270000e+00,\n",
       "        7.200000e+02],\n",
       "       [1.253000e+01, 5.510000e+00, 2.640000e+00, 2.500000e+01,\n",
       "        9.600000e+01, 1.790000e+00, 6.000000e-01, 6.300000e-01,\n",
       "        1.100000e+00, 5.000000e+00, 8.200000e-01, 1.690000e+00,\n",
       "        5.150000e+02],\n",
       "       [1.349000e+01, 3.590000e+00, 2.190000e+00, 1.950000e+01,\n",
       "        8.800000e+01, 1.620000e+00, 4.800000e-01, 5.800000e-01,\n",
       "        8.800000e-01, 5.700000e+00, 8.100000e-01, 1.820000e+00,\n",
       "        5.800000e+02],\n",
       "       [1.284000e+01, 2.960000e+00, 2.610000e+00, 2.400000e+01,\n",
       "        1.010000e+02, 2.320000e+00, 6.000000e-01, 5.300000e-01,\n",
       "        8.100000e-01, 4.920000e+00, 8.900000e-01, 2.150000e+00,\n",
       "        5.900000e+02],\n",
       "       [1.293000e+01, 2.810000e+00, 2.700000e+00, 2.100000e+01,\n",
       "        9.600000e+01, 1.540000e+00, 5.000000e-01, 5.300000e-01,\n",
       "        7.500000e-01, 4.600000e+00, 7.700000e-01, 2.310000e+00,\n",
       "        6.000000e+02],\n",
       "       [1.336000e+01, 2.560000e+00, 2.350000e+00, 2.000000e+01,\n",
       "        8.900000e+01, 1.400000e+00, 5.000000e-01, 3.700000e-01,\n",
       "        6.400000e-01, 5.600000e+00, 7.000000e-01, 2.470000e+00,\n",
       "        7.800000e+02],\n",
       "       [1.352000e+01, 3.170000e+00, 2.720000e+00, 2.350000e+01,\n",
       "        9.700000e+01, 1.550000e+00, 5.200000e-01, 5.000000e-01,\n",
       "        5.500000e-01, 4.350000e+00, 8.900000e-01, 2.060000e+00,\n",
       "        5.200000e+02],\n",
       "       [1.362000e+01, 4.950000e+00, 2.350000e+00, 2.000000e+01,\n",
       "        9.200000e+01, 2.000000e+00, 8.000000e-01, 4.700000e-01,\n",
       "        1.020000e+00, 4.400000e+00, 9.100000e-01, 2.050000e+00,\n",
       "        5.500000e+02],\n",
       "       [1.225000e+01, 3.880000e+00, 2.200000e+00, 1.850000e+01,\n",
       "        1.120000e+02, 1.380000e+00, 7.800000e-01, 2.900000e-01,\n",
       "        1.140000e+00, 8.210000e+00, 6.500000e-01, 2.000000e+00,\n",
       "        8.550000e+02],\n",
       "       [1.316000e+01, 3.570000e+00, 2.150000e+00, 2.100000e+01,\n",
       "        1.020000e+02, 1.500000e+00, 5.500000e-01, 4.300000e-01,\n",
       "        1.300000e+00, 4.000000e+00, 6.000000e-01, 1.680000e+00,\n",
       "        8.300000e+02],\n",
       "       [1.388000e+01, 5.040000e+00, 2.230000e+00, 2.000000e+01,\n",
       "        8.000000e+01, 9.800000e-01, 3.400000e-01, 4.000000e-01,\n",
       "        6.800000e-01, 4.900000e+00, 5.800000e-01, 1.330000e+00,\n",
       "        4.150000e+02],\n",
       "       [1.287000e+01, 4.610000e+00, 2.480000e+00, 2.150000e+01,\n",
       "        8.600000e+01, 1.700000e+00, 6.500000e-01, 4.700000e-01,\n",
       "        8.600000e-01, 7.650000e+00, 5.400000e-01, 1.860000e+00,\n",
       "        6.250000e+02],\n",
       "       [1.332000e+01, 3.240000e+00, 2.380000e+00, 2.150000e+01,\n",
       "        9.200000e+01, 1.930000e+00, 7.600000e-01, 4.500000e-01,\n",
       "        1.250000e+00, 8.420000e+00, 5.500000e-01, 1.620000e+00,\n",
       "        6.500000e+02],\n",
       "       [1.308000e+01, 3.900000e+00, 2.360000e+00, 2.150000e+01,\n",
       "        1.130000e+02, 1.410000e+00, 1.390000e+00, 3.400000e-01,\n",
       "        1.140000e+00, 9.400000e+00, 5.700000e-01, 1.330000e+00,\n",
       "        5.500000e+02],\n",
       "       [1.350000e+01, 3.120000e+00, 2.620000e+00, 2.400000e+01,\n",
       "        1.230000e+02, 1.400000e+00, 1.570000e+00, 2.200000e-01,\n",
       "        1.250000e+00, 8.600000e+00, 5.900000e-01, 1.300000e+00,\n",
       "        5.000000e+02],\n",
       "       [1.279000e+01, 2.670000e+00, 2.480000e+00, 2.200000e+01,\n",
       "        1.120000e+02, 1.480000e+00, 1.360000e+00, 2.400000e-01,\n",
       "        1.260000e+00, 1.080000e+01, 4.800000e-01, 1.470000e+00,\n",
       "        4.800000e+02],\n",
       "       [1.311000e+01, 1.900000e+00, 2.750000e+00, 2.550000e+01,\n",
       "        1.160000e+02, 2.200000e+00, 1.280000e+00, 2.600000e-01,\n",
       "        1.560000e+00, 7.100000e+00, 6.100000e-01, 1.330000e+00,\n",
       "        4.250000e+02],\n",
       "       [1.323000e+01, 3.300000e+00, 2.280000e+00, 1.850000e+01,\n",
       "        9.800000e+01, 1.800000e+00, 8.300000e-01, 6.100000e-01,\n",
       "        1.870000e+00, 1.052000e+01, 5.600000e-01, 1.510000e+00,\n",
       "        6.750000e+02],\n",
       "       [1.258000e+01, 1.290000e+00, 2.100000e+00, 2.000000e+01,\n",
       "        1.030000e+02, 1.480000e+00, 5.800000e-01, 5.300000e-01,\n",
       "        1.400000e+00, 7.600000e+00, 5.800000e-01, 1.550000e+00,\n",
       "        6.400000e+02],\n",
       "       [1.317000e+01, 5.190000e+00, 2.320000e+00, 2.200000e+01,\n",
       "        9.300000e+01, 1.740000e+00, 6.300000e-01, 6.100000e-01,\n",
       "        1.550000e+00, 7.900000e+00, 6.000000e-01, 1.480000e+00,\n",
       "        7.250000e+02],\n",
       "       [1.384000e+01, 4.120000e+00, 2.380000e+00, 1.950000e+01,\n",
       "        8.900000e+01, 1.800000e+00, 8.300000e-01, 4.800000e-01,\n",
       "        1.560000e+00, 9.010000e+00, 5.700000e-01, 1.640000e+00,\n",
       "        4.800000e+02],\n",
       "       [1.245000e+01, 3.030000e+00, 2.640000e+00, 2.700000e+01,\n",
       "        9.700000e+01, 1.900000e+00, 5.800000e-01, 6.300000e-01,\n",
       "        1.140000e+00, 7.500000e+00, 6.700000e-01, 1.730000e+00,\n",
       "        8.800000e+02],\n",
       "       [1.434000e+01, 1.680000e+00, 2.700000e+00, 2.500000e+01,\n",
       "        9.800000e+01, 2.800000e+00, 1.310000e+00, 5.300000e-01,\n",
       "        2.700000e+00, 1.300000e+01, 5.700000e-01, 1.960000e+00,\n",
       "        6.600000e+02],\n",
       "       [1.348000e+01, 1.670000e+00, 2.640000e+00, 2.250000e+01,\n",
       "        8.900000e+01, 2.600000e+00, 1.100000e+00, 5.200000e-01,\n",
       "        2.290000e+00, 1.175000e+01, 5.700000e-01, 1.780000e+00,\n",
       "        6.200000e+02],\n",
       "       [1.236000e+01, 3.830000e+00, 2.380000e+00, 2.100000e+01,\n",
       "        8.800000e+01, 2.300000e+00, 9.200000e-01, 5.000000e-01,\n",
       "        1.040000e+00, 7.650000e+00, 5.600000e-01, 1.580000e+00,\n",
       "        5.200000e+02],\n",
       "       [1.369000e+01, 3.260000e+00, 2.540000e+00, 2.000000e+01,\n",
       "        1.070000e+02, 1.830000e+00, 5.600000e-01, 5.000000e-01,\n",
       "        8.000000e-01, 5.880000e+00, 9.600000e-01, 1.820000e+00,\n",
       "        6.800000e+02],\n",
       "       [1.285000e+01, 3.270000e+00, 2.580000e+00, 2.200000e+01,\n",
       "        1.060000e+02, 1.650000e+00, 6.000000e-01, 6.000000e-01,\n",
       "        9.600000e-01, 5.580000e+00, 8.700000e-01, 2.110000e+00,\n",
       "        5.700000e+02],\n",
       "       [1.296000e+01, 3.450000e+00, 2.350000e+00, 1.850000e+01,\n",
       "        1.060000e+02, 1.390000e+00, 7.000000e-01, 4.000000e-01,\n",
       "        9.400000e-01, 5.280000e+00, 6.800000e-01, 1.750000e+00,\n",
       "        6.750000e+02],\n",
       "       [1.378000e+01, 2.760000e+00, 2.300000e+00, 2.200000e+01,\n",
       "        9.000000e+01, 1.350000e+00, 6.800000e-01, 4.100000e-01,\n",
       "        1.030000e+00, 9.580000e+00, 7.000000e-01, 1.680000e+00,\n",
       "        6.150000e+02],\n",
       "       [1.373000e+01, 4.360000e+00, 2.260000e+00, 2.250000e+01,\n",
       "        8.800000e+01, 1.280000e+00, 4.700000e-01, 5.200000e-01,\n",
       "        1.150000e+00, 6.620000e+00, 7.800000e-01, 1.750000e+00,\n",
       "        5.200000e+02],\n",
       "       [1.345000e+01, 3.700000e+00, 2.600000e+00, 2.300000e+01,\n",
       "        1.110000e+02, 1.700000e+00, 9.200000e-01, 4.300000e-01,\n",
       "        1.460000e+00, 1.068000e+01, 8.500000e-01, 1.560000e+00,\n",
       "        6.950000e+02],\n",
       "       [1.282000e+01, 3.370000e+00, 2.300000e+00, 1.950000e+01,\n",
       "        8.800000e+01, 1.480000e+00, 6.600000e-01, 4.000000e-01,\n",
       "        9.700000e-01, 1.026000e+01, 7.200000e-01, 1.750000e+00,\n",
       "        6.850000e+02],\n",
       "       [1.358000e+01, 2.580000e+00, 2.690000e+00, 2.450000e+01,\n",
       "        1.050000e+02, 1.550000e+00, 8.400000e-01, 3.900000e-01,\n",
       "        1.540000e+00, 8.660000e+00, 7.400000e-01, 1.800000e+00,\n",
       "        7.500000e+02],\n",
       "       [1.340000e+01, 4.600000e+00, 2.860000e+00, 2.500000e+01,\n",
       "        1.120000e+02, 1.980000e+00, 9.600000e-01, 2.700000e-01,\n",
       "        1.110000e+00, 8.500000e+00, 6.700000e-01, 1.920000e+00,\n",
       "        6.300000e+02],\n",
       "       [1.220000e+01, 3.030000e+00, 2.320000e+00, 1.900000e+01,\n",
       "        9.600000e+01, 1.250000e+00, 4.900000e-01, 4.000000e-01,\n",
       "        7.300000e-01, 5.500000e+00, 6.600000e-01, 1.830000e+00,\n",
       "        5.100000e+02],\n",
       "       [1.277000e+01, 2.390000e+00, 2.280000e+00, 1.950000e+01,\n",
       "        8.600000e+01, 1.390000e+00, 5.100000e-01, 4.800000e-01,\n",
       "        6.400000e-01, 9.899999e+00, 5.700000e-01, 1.630000e+00,\n",
       "        4.700000e+02],\n",
       "       [1.416000e+01, 2.510000e+00, 2.480000e+00, 2.000000e+01,\n",
       "        9.100000e+01, 1.680000e+00, 7.000000e-01, 4.400000e-01,\n",
       "        1.240000e+00, 9.700000e+00, 6.200000e-01, 1.710000e+00,\n",
       "        6.600000e+02],\n",
       "       [1.371000e+01, 5.650000e+00, 2.450000e+00, 2.050000e+01,\n",
       "        9.500000e+01, 1.680000e+00, 6.100000e-01, 5.200000e-01,\n",
       "        1.060000e+00, 7.700000e+00, 6.400000e-01, 1.740000e+00,\n",
       "        7.400000e+02],\n",
       "       [1.340000e+01, 3.910000e+00, 2.480000e+00, 2.300000e+01,\n",
       "        1.020000e+02, 1.800000e+00, 7.500000e-01, 4.300000e-01,\n",
       "        1.410000e+00, 7.300000e+00, 7.000000e-01, 1.560000e+00,\n",
       "        7.500000e+02],\n",
       "       [1.327000e+01, 4.280000e+00, 2.260000e+00, 2.000000e+01,\n",
       "        1.200000e+02, 1.590000e+00, 6.900000e-01, 4.300000e-01,\n",
       "        1.350000e+00, 1.020000e+01, 5.900000e-01, 1.560000e+00,\n",
       "        8.350000e+02],\n",
       "       [1.317000e+01, 2.590000e+00, 2.370000e+00, 2.000000e+01,\n",
       "        1.200000e+02, 1.650000e+00, 6.800000e-01, 5.300000e-01,\n",
       "        1.460000e+00, 9.300000e+00, 6.000000e-01, 1.620000e+00,\n",
       "        8.400000e+02],\n",
       "       [1.413000e+01, 4.100000e+00, 2.740000e+00, 2.450000e+01,\n",
       "        9.600000e+01, 2.050000e+00, 7.600000e-01, 5.600000e-01,\n",
       "        1.350000e+00, 9.200000e+00, 6.100000e-01, 1.600000e+00,\n",
       "        5.600000e+02]])"
      ]
     },
     "execution_count": 9,
     "metadata": {},
     "output_type": "execute_result"
    }
   ],
   "source": [
    "Xtest=X[train_size:datalens,:]\n",
    "Xtest"
   ]
  },
  {
   "cell_type": "code",
   "execution_count": 10,
   "metadata": {},
   "outputs": [
    {
     "data": {
      "text/plain": [
       "array([0, 0, 0, 0, 0, 0, 0, 0, 0, 0, 0, 0, 0, 0, 0, 0, 0, 0, 0, 0, 0, 0,\n",
       "       0, 0, 0, 0, 0, 0, 0, 0, 0, 0, 0, 0, 0, 0, 0, 0, 0, 0, 0, 0, 0, 0,\n",
       "       0, 0, 0, 0, 0, 0, 0, 0, 0, 0, 0, 0, 0, 0, 0, 1, 1, 1, 1, 1, 1, 1,\n",
       "       1, 1, 1, 1, 1, 1, 1, 1, 1, 1, 1, 1, 1, 1, 1, 1, 1, 1, 1, 1, 1, 1,\n",
       "       1, 1, 1, 1, 1, 1, 1, 1, 1, 1, 1, 1, 1, 1, 1, 1, 1, 1, 1, 1, 1, 1,\n",
       "       1, 1, 1, 1, 1, 1, 1, 1, 1, 1, 1, 1, 1, 1])"
      ]
     },
     "execution_count": 10,
     "metadata": {},
     "output_type": "execute_result"
    }
   ],
   "source": [
    "Ytrain=Y[0:train_size]\n",
    "Ytrain"
   ]
  },
  {
   "cell_type": "code",
   "execution_count": 12,
   "metadata": {},
   "outputs": [
    {
     "data": {
      "text/plain": [
       "array([1, 1, 1, 1, 1, 1, 2, 2, 2, 2, 2, 2, 2, 2, 2, 2, 2, 2, 2, 2, 2, 2,\n",
       "       2, 2, 2, 2, 2, 2, 2, 2, 2, 2, 2, 2, 2, 2, 2, 2, 2, 2, 2, 2, 2, 2,\n",
       "       2, 2, 2, 2, 2, 2, 2, 2, 2, 2])"
      ]
     },
     "execution_count": 12,
     "metadata": {},
     "output_type": "execute_result"
    }
   ],
   "source": [
    "Ytest=Y[train_size:datalens]\n",
    "Ytest"
   ]
  },
  {
   "cell_type": "code",
   "execution_count": 13,
   "metadata": {},
   "outputs": [
    {
     "name": "stdout",
     "output_type": "stream",
     "text": [
      "1.0\n"
     ]
    }
   ],
   "source": [
    "#生成模型\n",
    "clf=tree.DecisionTreeClassifier()\n",
    "clf.fit(Xtrain,Ytrain)\n",
    "score=clf.score(Xtrain,Ytrain)\n",
    "print(score)"
   ]
  },
  {
   "cell_type": "code",
   "execution_count": 15,
   "metadata": {},
   "outputs": [
    {
     "data": {
      "text/plain": [
       "array([1, 1, 1, 1, 1, 1, 1, 1, 1, 1, 1, 1, 1, 1, 0, 1, 1, 0, 0, 0, 0, 0,\n",
       "       0, 1, 0, 1, 0, 1, 1, 0, 1, 1, 0, 0, 1, 1, 1, 0, 1, 1, 0, 0, 0, 1,\n",
       "       0, 0, 1, 1, 0, 0, 0, 0, 0, 0])"
      ]
     },
     "execution_count": 15,
     "metadata": {},
     "output_type": "execute_result"
    }
   ],
   "source": [
    "YTestPrediction=clf.predict(Xtest)\n",
    "YTestPrediction"
   ]
  },
  {
   "cell_type": "code",
   "execution_count": 7,
   "metadata": {},
   "outputs": [
    {
     "ename": "ValueError",
     "evalue": "Number of features of the model must match the input. Model n_features is 13 and input n_features is 1 ",
     "output_type": "error",
     "traceback": [
      "\u001b[0;31m---------------------------------------------------------------------------\u001b[0m",
      "\u001b[0;31mValueError\u001b[0m                                Traceback (most recent call last)",
      "\u001b[0;32m<ipython-input-7-8b106644484b>\u001b[0m in \u001b[0;36m<module>\u001b[0;34m()\u001b[0m\n\u001b[1;32m      1\u001b[0m \u001b[0mYTestPrediction\u001b[0m\u001b[1;33m=\u001b[0m\u001b[0mclf\u001b[0m\u001b[1;33m.\u001b[0m\u001b[0mpredict\u001b[0m\u001b[1;33m(\u001b[0m\u001b[0mXtest\u001b[0m\u001b[1;33m)\u001b[0m\u001b[1;33m\u001b[0m\u001b[1;33m\u001b[0m\u001b[0m\n\u001b[1;32m      2\u001b[0m \u001b[0mYtest\u001b[0m\u001b[1;33m=\u001b[0m\u001b[0mYtest\u001b[0m\u001b[1;33m.\u001b[0m\u001b[0mreshape\u001b[0m\u001b[1;33m(\u001b[0m\u001b[1;33m-\u001b[0m\u001b[1;36m1\u001b[0m\u001b[1;33m,\u001b[0m\u001b[1;36m1\u001b[0m\u001b[1;33m)\u001b[0m\u001b[1;33m\u001b[0m\u001b[1;33m\u001b[0m\u001b[0m\n\u001b[0;32m----> 3\u001b[0;31m \u001b[0mscore1\u001b[0m\u001b[1;33m=\u001b[0m\u001b[0mclf\u001b[0m\u001b[1;33m.\u001b[0m\u001b[0mscore\u001b[0m\u001b[1;33m(\u001b[0m\u001b[0mYtest\u001b[0m\u001b[1;33m,\u001b[0m\u001b[0mYTestPrediction\u001b[0m\u001b[1;33m)\u001b[0m\u001b[1;33m\u001b[0m\u001b[1;33m\u001b[0m\u001b[0m\n\u001b[0m",
      "\u001b[0;32mD:\\Anaconda3\\lib\\site-packages\\sklearn\\base.py\u001b[0m in \u001b[0;36mscore\u001b[0;34m(self, X, y, sample_weight)\u001b[0m\n\u001b[1;32m    355\u001b[0m         \"\"\"\n\u001b[1;32m    356\u001b[0m         \u001b[1;32mfrom\u001b[0m \u001b[1;33m.\u001b[0m\u001b[0mmetrics\u001b[0m \u001b[1;32mimport\u001b[0m \u001b[0maccuracy_score\u001b[0m\u001b[1;33m\u001b[0m\u001b[1;33m\u001b[0m\u001b[0m\n\u001b[0;32m--> 357\u001b[0;31m         \u001b[1;32mreturn\u001b[0m \u001b[0maccuracy_score\u001b[0m\u001b[1;33m(\u001b[0m\u001b[0my\u001b[0m\u001b[1;33m,\u001b[0m \u001b[0mself\u001b[0m\u001b[1;33m.\u001b[0m\u001b[0mpredict\u001b[0m\u001b[1;33m(\u001b[0m\u001b[0mX\u001b[0m\u001b[1;33m)\u001b[0m\u001b[1;33m,\u001b[0m \u001b[0msample_weight\u001b[0m\u001b[1;33m=\u001b[0m\u001b[0msample_weight\u001b[0m\u001b[1;33m)\u001b[0m\u001b[1;33m\u001b[0m\u001b[1;33m\u001b[0m\u001b[0m\n\u001b[0m\u001b[1;32m    358\u001b[0m \u001b[1;33m\u001b[0m\u001b[0m\n\u001b[1;32m    359\u001b[0m \u001b[1;33m\u001b[0m\u001b[0m\n",
      "\u001b[0;32mD:\\Anaconda3\\lib\\site-packages\\sklearn\\tree\\tree.py\u001b[0m in \u001b[0;36mpredict\u001b[0;34m(self, X, check_input)\u001b[0m\n\u001b[1;32m    428\u001b[0m         \"\"\"\n\u001b[1;32m    429\u001b[0m         \u001b[0mcheck_is_fitted\u001b[0m\u001b[1;33m(\u001b[0m\u001b[0mself\u001b[0m\u001b[1;33m,\u001b[0m \u001b[1;34m'tree_'\u001b[0m\u001b[1;33m)\u001b[0m\u001b[1;33m\u001b[0m\u001b[1;33m\u001b[0m\u001b[0m\n\u001b[0;32m--> 430\u001b[0;31m         \u001b[0mX\u001b[0m \u001b[1;33m=\u001b[0m \u001b[0mself\u001b[0m\u001b[1;33m.\u001b[0m\u001b[0m_validate_X_predict\u001b[0m\u001b[1;33m(\u001b[0m\u001b[0mX\u001b[0m\u001b[1;33m,\u001b[0m \u001b[0mcheck_input\u001b[0m\u001b[1;33m)\u001b[0m\u001b[1;33m\u001b[0m\u001b[1;33m\u001b[0m\u001b[0m\n\u001b[0m\u001b[1;32m    431\u001b[0m         \u001b[0mproba\u001b[0m \u001b[1;33m=\u001b[0m \u001b[0mself\u001b[0m\u001b[1;33m.\u001b[0m\u001b[0mtree_\u001b[0m\u001b[1;33m.\u001b[0m\u001b[0mpredict\u001b[0m\u001b[1;33m(\u001b[0m\u001b[0mX\u001b[0m\u001b[1;33m)\u001b[0m\u001b[1;33m\u001b[0m\u001b[1;33m\u001b[0m\u001b[0m\n\u001b[1;32m    432\u001b[0m         \u001b[0mn_samples\u001b[0m \u001b[1;33m=\u001b[0m \u001b[0mX\u001b[0m\u001b[1;33m.\u001b[0m\u001b[0mshape\u001b[0m\u001b[1;33m[\u001b[0m\u001b[1;36m0\u001b[0m\u001b[1;33m]\u001b[0m\u001b[1;33m\u001b[0m\u001b[1;33m\u001b[0m\u001b[0m\n",
      "\u001b[0;32mD:\\Anaconda3\\lib\\site-packages\\sklearn\\tree\\tree.py\u001b[0m in \u001b[0;36m_validate_X_predict\u001b[0;34m(self, X, check_input)\u001b[0m\n\u001b[1;32m    400\u001b[0m                              \u001b[1;34m\"match the input. Model n_features is %s and \"\u001b[0m\u001b[1;33m\u001b[0m\u001b[1;33m\u001b[0m\u001b[0m\n\u001b[1;32m    401\u001b[0m                              \u001b[1;34m\"input n_features is %s \"\u001b[0m\u001b[1;33m\u001b[0m\u001b[1;33m\u001b[0m\u001b[0m\n\u001b[0;32m--> 402\u001b[0;31m                              % (self.n_features_, n_features))\n\u001b[0m\u001b[1;32m    403\u001b[0m \u001b[1;33m\u001b[0m\u001b[0m\n\u001b[1;32m    404\u001b[0m         \u001b[1;32mreturn\u001b[0m \u001b[0mX\u001b[0m\u001b[1;33m\u001b[0m\u001b[1;33m\u001b[0m\u001b[0m\n",
      "\u001b[0;31mValueError\u001b[0m: Number of features of the model must match the input. Model n_features is 13 and input n_features is 1 "
     ]
    }
   ],
   "source": [
    "Ytest=Ytest.reshape(-1,1)\n",
    "score1=clf.score(Ytest,YTestPrediction)"
   ]
  },
  {
   "cell_type": "code",
   "execution_count": 39,
   "metadata": {},
   "outputs": [
    {
     "data": {
      "text/plain": [
       "[<matplotlib.lines.Line2D at 0x1480f571dd8>,\n",
       " <matplotlib.lines.Line2D at 0x1480f571f28>,\n",
       " <matplotlib.lines.Line2D at 0x1480f57f0b8>,\n",
       " <matplotlib.lines.Line2D at 0x1480f57f208>,\n",
       " <matplotlib.lines.Line2D at 0x1480f57f358>,\n",
       " <matplotlib.lines.Line2D at 0x1480f57f4a8>,\n",
       " <matplotlib.lines.Line2D at 0x1480f57f5f8>,\n",
       " <matplotlib.lines.Line2D at 0x1480f57f748>,\n",
       " <matplotlib.lines.Line2D at 0x1480f57f898>,\n",
       " <matplotlib.lines.Line2D at 0x1480f57f9e8>,\n",
       " <matplotlib.lines.Line2D at 0x1480f555438>,\n",
       " <matplotlib.lines.Line2D at 0x1480f57fc50>,\n",
       " <matplotlib.lines.Line2D at 0x1480f57fda0>]"
      ]
     },
     "execution_count": 39,
     "metadata": {},
     "output_type": "execute_result"
    },
    {
     "data": {
      "image/png": "[encoded data removed]",
      "text/plain": [
       "<Figure size 432x288 with 1 Axes>"
      ]
     },
     "metadata": {},
     "output_type": "display_data"
    }
   ],
   "source": [
    "import matplotlib.pyplot as plt\n",
    "plt.plot(Xtest,YTestPrediction)"
   ]
  },
  {
   "cell_type": "code",
   "execution_count": null,
   "metadata": {},
   "outputs": [],
   "source": []
  }
 ],
 "metadata": {
  "kernelspec": {
   "display_name": "Python 3",
   "language": "python",
   "name": "python3"
  },
  "language_info": {
   "codemirror_mode": {
    "name": "ipython",
    "version": 3
   },
   "file_extension": ".py",
   "mimetype": "text/x-python",
   "name": "python",
   "nbconvert_exporter": "python",
   "pygments_lexer": "ipython3",
   "version": "3.6.8"
  }
 },
 "nbformat": 4,
 "nbformat_minor": 2
}
