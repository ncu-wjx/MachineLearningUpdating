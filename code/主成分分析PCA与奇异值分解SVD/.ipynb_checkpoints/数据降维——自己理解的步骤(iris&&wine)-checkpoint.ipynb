{
 "cells": [
  {
   "cell_type": "code",
   "execution_count": 1,
   "metadata": {},
   "outputs": [],
   "source": [
    "import matplotlib.pyplot as plt\n",
    "from sklearn.datasets import load_iris\n",
    "from sklearn.decomposition import PCA\n",
    "%matplotlib inline"
   ]
  },
  {
   "cell_type": "code",
   "execution_count": 2,
   "metadata": {},
   "outputs": [],
   "source": [
    "iris=load_iris()"
   ]
  },
  {
   "cell_type": "code",
   "execution_count": 3,
   "metadata": {},
   "outputs": [],
   "source": [
    "X=iris.data\n",
    "Y=iris.target"
   ]
  },
  {
   "cell_type": "code",
   "execution_count": 4,
   "metadata": {},
   "outputs": [
    {
     "data": {
      "text/plain": [
       "{'DESCR': '.. _iris_dataset:\\n\\nIris plants dataset\\n--------------------\\n\\n**Data Set Characteristics:**\\n\\n    :Number of Instances: 150 (50 in each of three classes)\\n    :Number of Attributes: 4 numeric, predictive attributes and the class\\n    :Attribute Information:\\n        - sepal length in cm\\n        - sepal width in cm\\n        - petal length in cm\\n        - petal width in cm\\n        - class:\\n                - Iris-Setosa\\n                - Iris-Versicolour\\n                - Iris-Virginica\\n                \\n    :Summary Statistics:\\n\\n    ============== ==== ==== ======= ===== ====================\\n                    Min  Max   Mean    SD   Class Correlation\\n    ============== ==== ==== ======= ===== ====================\\n    sepal length:   4.3  7.9   5.84   0.83    0.7826\\n    sepal width:    2.0  4.4   3.05   0.43   -0.4194\\n    petal length:   1.0  6.9   3.76   1.76    0.9490  (high!)\\n    petal width:    0.1  2.5   1.20   0.76    0.9565  (high!)\\n    ============== ==== ==== ======= ===== ====================\\n\\n    :Missing Attribute Values: None\\n    :Class Distribution: 33.3% for each of 3 classes.\\n    :Creator: R.A. Fisher\\n    :Donor: Michael Marshall (MARSHALL%PLU@io.arc.nasa.gov)\\n    :Date: July, 1988\\n\\nThe famous Iris database, first used by Sir R.A. Fisher. The dataset is taken\\nfrom Fisher\\'s paper. Note that it\\'s the same as in R, but not as in the UCI\\nMachine Learning Repository, which has two wrong data points.\\n\\nThis is perhaps the best known database to be found in the\\npattern recognition literature.  Fisher\\'s paper is a classic in the field and\\nis referenced frequently to this day.  (See Duda & Hart, for example.)  The\\ndata set contains 3 classes of 50 instances each, where each class refers to a\\ntype of iris plant.  One class is linearly separable from the other 2; the\\nlatter are NOT linearly separable from each other.\\n\\n.. topic:: References\\n\\n   - Fisher, R.A. \"The use of multiple measurements in taxonomic problems\"\\n     Annual Eugenics, 7, Part II, 179-188 (1936); also in \"Contributions to\\n     Mathematical Statistics\" (John Wiley, NY, 1950).\\n   - Duda, R.O., & Hart, P.E. (1973) Pattern Classification and Scene Analysis.\\n     (Q327.D83) John Wiley & Sons.  ISBN 0-471-22361-1.  See page 218.\\n   - Dasarathy, B.V. (1980) \"Nosing Around the Neighborhood: A New System\\n     Structure and Classification Rule for Recognition in Partially Exposed\\n     Environments\".  IEEE Transactions on Pattern Analysis and Machine\\n     Intelligence, Vol. PAMI-2, No. 1, 67-71.\\n   - Gates, G.W. (1972) \"The Reduced Nearest Neighbor Rule\".  IEEE Transactions\\n     on Information Theory, May 1972, 431-433.\\n   - See also: 1988 MLC Proceedings, 54-64.  Cheeseman et al\"s AUTOCLASS II\\n     conceptual clustering system finds 3 classes in the data.\\n   - Many, many more ...',\n",
       " 'data': array([[5.1, 3.5, 1.4, 0.2],\n",
       "        [4.9, 3. , 1.4, 0.2],\n",
       "        [4.7, 3.2, 1.3, 0.2],\n",
       "        [4.6, 3.1, 1.5, 0.2],\n",
       "        [5. , 3.6, 1.4, 0.2],\n",
       "        [5.4, 3.9, 1.7, 0.4],\n",
       "        [4.6, 3.4, 1.4, 0.3],\n",
       "        [5. , 3.4, 1.5, 0.2],\n",
       "        [4.4, 2.9, 1.4, 0.2],\n",
       "        [4.9, 3.1, 1.5, 0.1],\n",
       "        [5.4, 3.7, 1.5, 0.2],\n",
       "        [4.8, 3.4, 1.6, 0.2],\n",
       "        [4.8, 3. , 1.4, 0.1],\n",
       "        [4.3, 3. , 1.1, 0.1],\n",
       "        [5.8, 4. , 1.2, 0.2],\n",
       "        [5.7, 4.4, 1.5, 0.4],\n",
       "        [5.4, 3.9, 1.3, 0.4],\n",
       "        [5.1, 3.5, 1.4, 0.3],\n",
       "        [5.7, 3.8, 1.7, 0.3],\n",
       "        [5.1, 3.8, 1.5, 0.3],\n",
       "        [5.4, 3.4, 1.7, 0.2],\n",
       "        [5.1, 3.7, 1.5, 0.4],\n",
       "        [4.6, 3.6, 1. , 0.2],\n",
       "        [5.1, 3.3, 1.7, 0.5],\n",
       "        [4.8, 3.4, 1.9, 0.2],\n",
       "        [5. , 3. , 1.6, 0.2],\n",
       "        [5. , 3.4, 1.6, 0.4],\n",
       "        [5.2, 3.5, 1.5, 0.2],\n",
       "        [5.2, 3.4, 1.4, 0.2],\n",
       "        [4.7, 3.2, 1.6, 0.2],\n",
       "        [4.8, 3.1, 1.6, 0.2],\n",
       "        [5.4, 3.4, 1.5, 0.4],\n",
       "        [5.2, 4.1, 1.5, 0.1],\n",
       "        [5.5, 4.2, 1.4, 0.2],\n",
       "        [4.9, 3.1, 1.5, 0.2],\n",
       "        [5. , 3.2, 1.2, 0.2],\n",
       "        [5.5, 3.5, 1.3, 0.2],\n",
       "        [4.9, 3.6, 1.4, 0.1],\n",
       "        [4.4, 3. , 1.3, 0.2],\n",
       "        [5.1, 3.4, 1.5, 0.2],\n",
       "        [5. , 3.5, 1.3, 0.3],\n",
       "        [4.5, 2.3, 1.3, 0.3],\n",
       "        [4.4, 3.2, 1.3, 0.2],\n",
       "        [5. , 3.5, 1.6, 0.6],\n",
       "        [5.1, 3.8, 1.9, 0.4],\n",
       "        [4.8, 3. , 1.4, 0.3],\n",
       "        [5.1, 3.8, 1.6, 0.2],\n",
       "        [4.6, 3.2, 1.4, 0.2],\n",
       "        [5.3, 3.7, 1.5, 0.2],\n",
       "        [5. , 3.3, 1.4, 0.2],\n",
       "        [7. , 3.2, 4.7, 1.4],\n",
       "        [6.4, 3.2, 4.5, 1.5],\n",
       "        [6.9, 3.1, 4.9, 1.5],\n",
       "        [5.5, 2.3, 4. , 1.3],\n",
       "        [6.5, 2.8, 4.6, 1.5],\n",
       "        [5.7, 2.8, 4.5, 1.3],\n",
       "        [6.3, 3.3, 4.7, 1.6],\n",
       "        [4.9, 2.4, 3.3, 1. ],\n",
       "        [6.6, 2.9, 4.6, 1.3],\n",
       "        [5.2, 2.7, 3.9, 1.4],\n",
       "        [5. , 2. , 3.5, 1. ],\n",
       "        [5.9, 3. , 4.2, 1.5],\n",
       "        [6. , 2.2, 4. , 1. ],\n",
       "        [6.1, 2.9, 4.7, 1.4],\n",
       "        [5.6, 2.9, 3.6, 1.3],\n",
       "        [6.7, 3.1, 4.4, 1.4],\n",
       "        [5.6, 3. , 4.5, 1.5],\n",
       "        [5.8, 2.7, 4.1, 1. ],\n",
       "        [6.2, 2.2, 4.5, 1.5],\n",
       "        [5.6, 2.5, 3.9, 1.1],\n",
       "        [5.9, 3.2, 4.8, 1.8],\n",
       "        [6.1, 2.8, 4. , 1.3],\n",
       "        [6.3, 2.5, 4.9, 1.5],\n",
       "        [6.1, 2.8, 4.7, 1.2],\n",
       "        [6.4, 2.9, 4.3, 1.3],\n",
       "        [6.6, 3. , 4.4, 1.4],\n",
       "        [6.8, 2.8, 4.8, 1.4],\n",
       "        [6.7, 3. , 5. , 1.7],\n",
       "        [6. , 2.9, 4.5, 1.5],\n",
       "        [5.7, 2.6, 3.5, 1. ],\n",
       "        [5.5, 2.4, 3.8, 1.1],\n",
       "        [5.5, 2.4, 3.7, 1. ],\n",
       "        [5.8, 2.7, 3.9, 1.2],\n",
       "        [6. , 2.7, 5.1, 1.6],\n",
       "        [5.4, 3. , 4.5, 1.5],\n",
       "        [6. , 3.4, 4.5, 1.6],\n",
       "        [6.7, 3.1, 4.7, 1.5],\n",
       "        [6.3, 2.3, 4.4, 1.3],\n",
       "        [5.6, 3. , 4.1, 1.3],\n",
       "        [5.5, 2.5, 4. , 1.3],\n",
       "        [5.5, 2.6, 4.4, 1.2],\n",
       "        [6.1, 3. , 4.6, 1.4],\n",
       "        [5.8, 2.6, 4. , 1.2],\n",
       "        [5. , 2.3, 3.3, 1. ],\n",
       "        [5.6, 2.7, 4.2, 1.3],\n",
       "        [5.7, 3. , 4.2, 1.2],\n",
       "        [5.7, 2.9, 4.2, 1.3],\n",
       "        [6.2, 2.9, 4.3, 1.3],\n",
       "        [5.1, 2.5, 3. , 1.1],\n",
       "        [5.7, 2.8, 4.1, 1.3],\n",
       "        [6.3, 3.3, 6. , 2.5],\n",
       "        [5.8, 2.7, 5.1, 1.9],\n",
       "        [7.1, 3. , 5.9, 2.1],\n",
       "        [6.3, 2.9, 5.6, 1.8],\n",
       "        [6.5, 3. , 5.8, 2.2],\n",
       "        [7.6, 3. , 6.6, 2.1],\n",
       "        [4.9, 2.5, 4.5, 1.7],\n",
       "        [7.3, 2.9, 6.3, 1.8],\n",
       "        [6.7, 2.5, 5.8, 1.8],\n",
       "        [7.2, 3.6, 6.1, 2.5],\n",
       "        [6.5, 3.2, 5.1, 2. ],\n",
       "        [6.4, 2.7, 5.3, 1.9],\n",
       "        [6.8, 3. , 5.5, 2.1],\n",
       "        [5.7, 2.5, 5. , 2. ],\n",
       "        [5.8, 2.8, 5.1, 2.4],\n",
       "        [6.4, 3.2, 5.3, 2.3],\n",
       "        [6.5, 3. , 5.5, 1.8],\n",
       "        [7.7, 3.8, 6.7, 2.2],\n",
       "        [7.7, 2.6, 6.9, 2.3],\n",
       "        [6. , 2.2, 5. , 1.5],\n",
       "        [6.9, 3.2, 5.7, 2.3],\n",
       "        [5.6, 2.8, 4.9, 2. ],\n",
       "        [7.7, 2.8, 6.7, 2. ],\n",
       "        [6.3, 2.7, 4.9, 1.8],\n",
       "        [6.7, 3.3, 5.7, 2.1],\n",
       "        [7.2, 3.2, 6. , 1.8],\n",
       "        [6.2, 2.8, 4.8, 1.8],\n",
       "        [6.1, 3. , 4.9, 1.8],\n",
       "        [6.4, 2.8, 5.6, 2.1],\n",
       "        [7.2, 3. , 5.8, 1.6],\n",
       "        [7.4, 2.8, 6.1, 1.9],\n",
       "        [7.9, 3.8, 6.4, 2. ],\n",
       "        [6.4, 2.8, 5.6, 2.2],\n",
       "        [6.3, 2.8, 5.1, 1.5],\n",
       "        [6.1, 2.6, 5.6, 1.4],\n",
       "        [7.7, 3. , 6.1, 2.3],\n",
       "        [6.3, 3.4, 5.6, 2.4],\n",
       "        [6.4, 3.1, 5.5, 1.8],\n",
       "        [6. , 3. , 4.8, 1.8],\n",
       "        [6.9, 3.1, 5.4, 2.1],\n",
       "        [6.7, 3.1, 5.6, 2.4],\n",
       "        [6.9, 3.1, 5.1, 2.3],\n",
       "        [5.8, 2.7, 5.1, 1.9],\n",
       "        [6.8, 3.2, 5.9, 2.3],\n",
       "        [6.7, 3.3, 5.7, 2.5],\n",
       "        [6.7, 3. , 5.2, 2.3],\n",
       "        [6.3, 2.5, 5. , 1.9],\n",
       "        [6.5, 3. , 5.2, 2. ],\n",
       "        [6.2, 3.4, 5.4, 2.3],\n",
       "        [5.9, 3. , 5.1, 1.8]]),\n",
       " 'feature_names': ['sepal length (cm)',\n",
       "  'sepal width (cm)',\n",
       "  'petal length (cm)',\n",
       "  'petal width (cm)'],\n",
       " 'filename': 'D:\\\\Anaconda3\\\\lib\\\\site-packages\\\\sklearn\\\\datasets\\\\data\\\\iris.csv',\n",
       " 'target': array([0, 0, 0, 0, 0, 0, 0, 0, 0, 0, 0, 0, 0, 0, 0, 0, 0, 0, 0, 0, 0, 0,\n",
       "        0, 0, 0, 0, 0, 0, 0, 0, 0, 0, 0, 0, 0, 0, 0, 0, 0, 0, 0, 0, 0, 0,\n",
       "        0, 0, 0, 0, 0, 0, 1, 1, 1, 1, 1, 1, 1, 1, 1, 1, 1, 1, 1, 1, 1, 1,\n",
       "        1, 1, 1, 1, 1, 1, 1, 1, 1, 1, 1, 1, 1, 1, 1, 1, 1, 1, 1, 1, 1, 1,\n",
       "        1, 1, 1, 1, 1, 1, 1, 1, 1, 1, 1, 1, 2, 2, 2, 2, 2, 2, 2, 2, 2, 2,\n",
       "        2, 2, 2, 2, 2, 2, 2, 2, 2, 2, 2, 2, 2, 2, 2, 2, 2, 2, 2, 2, 2, 2,\n",
       "        2, 2, 2, 2, 2, 2, 2, 2, 2, 2, 2, 2, 2, 2, 2, 2, 2, 2]),\n",
       " 'target_names': array(['setosa', 'versicolor', 'virginica'], dtype='<U10')}"
      ]
     },
     "execution_count": 4,
     "metadata": {},
     "output_type": "execute_result"
    }
   ],
   "source": [
    "iris"
   ]
  },
  {
   "cell_type": "code",
   "execution_count": 5,
   "metadata": {},
   "outputs": [
    {
     "data": {
      "text/plain": [
       "array([0.92461872, 0.05306648, 0.01710261, 0.00521218])"
      ]
     },
     "execution_count": 5,
     "metadata": {},
     "output_type": "execute_result"
    }
   ],
   "source": [
    "#查看累积可解释方差贡献率曲线\n",
    "import numpy as np\n",
    "pca_line=PCA().fit(X)\n",
    "pca_line.explained_variance_ratio_"
   ]
  },
  {
   "cell_type": "code",
   "execution_count": 6,
   "metadata": {},
   "outputs": [
    {
     "data": {
      "text/plain": [
       "Text(0, 0.5, 'cumulative explained variance')"
      ]
     },
     "execution_count": 6,
     "metadata": {},
     "output_type": "execute_result"
    },
    {
     "data": {
      "image/png": "[encoded data removed]",
      "text/plain": [
       "<Figure size 432x288 with 1 Axes>"
      ]
     },
     "metadata": {},
     "output_type": "display_data"
    }
   ],
   "source": [
    "plt.plot([1,2,3,4],np.cumsum(pca_line.explained_variance_ratio_))\n",
    "plt.xticks([1,2,3,4]) #这是为了限制坐标轴显示为整数\n",
    "plt.xlabel(\"number of components after dimension reduction\")\n",
    "plt.ylabel(\"cumulative explained variance\")\n",
    "#由结果可知，二维、三维都可，这里选二维（好画图）"
   ]
  },
  {
   "cell_type": "code",
   "execution_count": 13,
   "metadata": {},
   "outputs": [
    {
     "data": {
      "text/plain": [
       "Text(0.5, 1.0, 'PCA of IRIS dataset')"
      ]
     },
     "execution_count": 13,
     "metadata": {},
     "output_type": "execute_result"
    },
    {
     "data": {
      "image/png": "[encoded data removed]",
      "text/plain": [
       "<Figure size 432x288 with 1 Axes>"
      ]
     },
     "metadata": {},
     "output_type": "display_data"
    }
   ],
   "source": [
    "#现在画降维后的data-target图\n",
    "pca=PCA(n_components=2)\n",
    "pca=pca.fit(X)\n",
    "X_dr=pca.transform(X)\n",
    "plt.figure()\n",
    "plt.scatter(X_dr[Y==0, 0], X_dr[Y==0, 1], c=\"red\", label=iris.target_names[0])\n",
    "plt.scatter(X_dr[Y==1, 0], X_dr[Y==1, 1], c=\"black\", label=iris.target_names[1])\n",
    "plt.scatter(X_dr[Y==2, 0], X_dr[Y==2, 1], c=\"orange\", label=iris.target_names[2])\n",
    "plt.legend()\n",
    "plt.title('PCA of IRIS dataset')"
   ]
  },
  {
   "cell_type": "code",
   "execution_count": 14,
   "metadata": {},
   "outputs": [
    {
     "data": {
      "text/plain": [
       "array([[-2.68412563,  0.31939725, -0.02791483],\n",
       "       [-2.71414169, -0.17700123, -0.21046427],\n",
       "       [-2.88899057, -0.14494943,  0.01790026],\n",
       "       [-2.74534286, -0.31829898,  0.03155937],\n",
       "       [-2.72871654,  0.32675451,  0.09007924],\n",
       "       [-2.28085963,  0.74133045,  0.16867766],\n",
       "       [-2.82053775, -0.08946138,  0.25789216],\n",
       "       [-2.62614497,  0.16338496, -0.02187932],\n",
       "       [-2.88638273, -0.57831175,  0.02075957],\n",
       "       [-2.6727558 , -0.11377425, -0.19763272],\n",
       "       [-2.50694709,  0.6450689 , -0.07531801],\n",
       "       [-2.61275523,  0.01472994,  0.10215026],\n",
       "       [-2.78610927, -0.235112  , -0.20684443],\n",
       "       [-3.22380374, -0.51139459,  0.06129967],\n",
       "       [-2.64475039,  1.17876464, -0.15162752],\n",
       "       [-2.38603903,  1.33806233,  0.2777769 ],\n",
       "       [-2.62352788,  0.81067951,  0.13818323],\n",
       "       [-2.64829671,  0.31184914,  0.02666832],\n",
       "       [-2.19982032,  0.87283904, -0.12030552],\n",
       "       [-2.5879864 ,  0.51356031,  0.21366517],\n",
       "       [-2.31025622,  0.39134594, -0.23944404],\n",
       "       [-2.54370523,  0.43299606,  0.20845723],\n",
       "       [-3.21593942,  0.13346807,  0.29239675],\n",
       "       [-2.30273318,  0.09870885,  0.03912326],\n",
       "       [-2.35575405, -0.03728186,  0.12502108],\n",
       "       [-2.50666891, -0.14601688, -0.25342004],\n",
       "       [-2.46882007,  0.13095149,  0.09491058],\n",
       "       [-2.56231991,  0.36771886, -0.07849421],\n",
       "       [-2.63953472,  0.31203998, -0.1459089 ],\n",
       "       [-2.63198939, -0.19696122,  0.04077108],\n",
       "       [-2.58739848, -0.20431849, -0.07722299],\n",
       "       [-2.4099325 ,  0.41092426, -0.14552497],\n",
       "       [-2.64886233,  0.81336382,  0.22566915],\n",
       "       [-2.59873675,  1.09314576,  0.15781081],\n",
       "       [-2.63692688, -0.12132235, -0.14304958],\n",
       "       [-2.86624165,  0.06936447, -0.16433231],\n",
       "       [-2.62523805,  0.59937002, -0.26835038],\n",
       "       [-2.80068412,  0.26864374,  0.09369908],\n",
       "       [-2.98050204, -0.48795834,  0.07292705],\n",
       "       [-2.59000631,  0.22904384, -0.0800823 ],\n",
       "       [-2.77010243,  0.26352753,  0.07724769],\n",
       "       [-2.84936871, -0.94096057, -0.34923038],\n",
       "       [-2.99740655, -0.34192606,  0.19250921],\n",
       "       [-2.40561449,  0.18887143,  0.26386795],\n",
       "       [-2.20948924,  0.43666314,  0.29874275],\n",
       "       [-2.71445143, -0.2502082 , -0.09767814],\n",
       "       [-2.53814826,  0.50377114,  0.16670564],\n",
       "       [-2.83946217, -0.22794557,  0.08372685],\n",
       "       [-2.54308575,  0.57941002, -0.01711502],\n",
       "       [-2.70335978,  0.10770608, -0.08929401],\n",
       "       [ 1.28482569,  0.68516047, -0.40656803],\n",
       "       [ 0.93248853,  0.31833364, -0.01801419],\n",
       "       [ 1.46430232,  0.50426282, -0.33832576],\n",
       "       [ 0.18331772, -0.82795901, -0.17959139],\n",
       "       [ 1.08810326,  0.07459068, -0.3077579 ],\n",
       "       [ 0.64166908, -0.41824687,  0.04107609],\n",
       "       [ 1.09506066,  0.28346827,  0.16981024],\n",
       "       [-0.74912267, -1.00489096,  0.01230292],\n",
       "       [ 1.04413183,  0.2283619 , -0.41533608],\n",
       "       [-0.0087454 , -0.72308191,  0.28114143],\n",
       "       [-0.50784088, -1.26597119, -0.26981718],\n",
       "       [ 0.51169856, -0.10398124,  0.13054775],\n",
       "       [ 0.26497651, -0.55003646, -0.69414683],\n",
       "       [ 0.98493451, -0.12481785, -0.06211441],\n",
       "       [-0.17392537, -0.25485421,  0.09045769],\n",
       "       [ 0.92786078,  0.46717949, -0.31462098],\n",
       "       [ 0.66028376, -0.35296967,  0.32802753],\n",
       "       [ 0.23610499, -0.33361077, -0.27116184],\n",
       "       [ 0.94473373, -0.54314555, -0.49951905],\n",
       "       [ 0.04522698, -0.58383438, -0.2350021 ],\n",
       "       [ 1.11628318, -0.08461685,  0.45962099],\n",
       "       [ 0.35788842, -0.06892503, -0.22985389],\n",
       "       [ 1.29818388, -0.32778731, -0.34785435],\n",
       "       [ 0.92172892, -0.18273779, -0.23107178],\n",
       "       [ 0.71485333,  0.14905594, -0.32180094],\n",
       "       [ 0.90017437,  0.32850447, -0.31620907],\n",
       "       [ 1.33202444,  0.24444088, -0.52170278],\n",
       "       [ 1.55780216,  0.26749545, -0.16492098],\n",
       "       [ 0.81329065, -0.1633503 ,  0.0354245 ],\n",
       "       [-0.30558378, -0.36826219, -0.31849158],\n",
       "       [-0.06812649, -0.70517213, -0.24421381],\n",
       "       [-0.18962247, -0.68028676, -0.30642056],\n",
       "       [ 0.13642871, -0.31403244, -0.17724277],\n",
       "       [ 1.38002644, -0.42095429,  0.01616713],\n",
       "       [ 0.58800644, -0.48428742,  0.4444335 ],\n",
       "       [ 0.80685831,  0.19418231,  0.38896306],\n",
       "       [ 1.22069088,  0.40761959, -0.23716701],\n",
       "       [ 0.81509524, -0.37203706, -0.61472084],\n",
       "       [ 0.24595768, -0.2685244 ,  0.18836681],\n",
       "       [ 0.16641322, -0.68192672, -0.06000923],\n",
       "       [ 0.46480029, -0.67071154, -0.02430686],\n",
       "       [ 0.8908152 , -0.03446444, -0.00994693],\n",
       "       [ 0.23054802, -0.40438585, -0.22941024],\n",
       "       [-0.70453176, -1.01224823, -0.10569115],\n",
       "       [ 0.35698149, -0.50491009,  0.01661717],\n",
       "       [ 0.33193448, -0.21265468,  0.08320429],\n",
       "       [ 0.37621565, -0.29321893,  0.07799635],\n",
       "       [ 0.64257601,  0.01773819, -0.20539497],\n",
       "       [-0.90646986, -0.75609337, -0.01259965],\n",
       "       [ 0.29900084, -0.34889781,  0.01058166],\n",
       "       [ 2.53119273, -0.00984911,  0.76016543],\n",
       "       [ 1.41523588, -0.57491635,  0.29632253],\n",
       "       [ 2.61667602,  0.34390315, -0.11078788],\n",
       "       [ 1.97153105, -0.1797279 ,  0.10842466],\n",
       "       [ 2.35000592, -0.04026095,  0.28538956],\n",
       "       [ 3.39703874,  0.55083667, -0.34843756],\n",
       "       [ 0.52123224, -1.19275873,  0.5456593 ],\n",
       "       [ 2.93258707,  0.3555    , -0.42023994],\n",
       "       [ 2.32122882, -0.2438315 , -0.34830439],\n",
       "       [ 2.91675097,  0.78279195,  0.42333542],\n",
       "       [ 1.66177415,  0.24222841,  0.24244019],\n",
       "       [ 1.80340195, -0.21563762, -0.03764817],\n",
       "       [ 2.1655918 ,  0.21627559,  0.03332664],\n",
       "       [ 1.34616358, -0.77681835,  0.28190288],\n",
       "       [ 1.58592822, -0.53964071,  0.62902933],\n",
       "       [ 1.90445637,  0.11925069,  0.47963982],\n",
       "       [ 1.94968906,  0.04194326,  0.04418617],\n",
       "       [ 3.48705536,  1.17573933,  0.13389487],\n",
       "       [ 3.79564542,  0.25732297, -0.51376776],\n",
       "       [ 1.30079171, -0.76114964, -0.34499504],\n",
       "       [ 2.42781791,  0.37819601,  0.21911932],\n",
       "       [ 1.19900111, -0.60609153,  0.51185551],\n",
       "       [ 3.49992004,  0.4606741 , -0.57318224],\n",
       "       [ 1.38876613, -0.20439933, -0.06452276],\n",
       "       [ 2.2754305 ,  0.33499061,  0.28615009],\n",
       "       [ 2.61409047,  0.56090136, -0.20553452],\n",
       "       [ 1.25850816, -0.17970479,  0.0458477 ],\n",
       "       [ 1.29113206, -0.11666865,  0.23125646],\n",
       "       [ 2.12360872, -0.20972948,  0.15418002],\n",
       "       [ 2.38800302,  0.4646398 , -0.44953019],\n",
       "       [ 2.84167278,  0.37526917, -0.49889808],\n",
       "       [ 3.23067366,  1.37416509, -0.11454821],\n",
       "       [ 2.15943764, -0.21727758,  0.20876317],\n",
       "       [ 1.44416124, -0.14341341, -0.15323389],\n",
       "       [ 1.78129481, -0.49990168, -0.17287519],\n",
       "       [ 3.07649993,  0.68808568, -0.33559229],\n",
       "       [ 2.14424331,  0.1400642 ,  0.73487894],\n",
       "       [ 1.90509815,  0.04930053,  0.16218024],\n",
       "       [ 1.16932634, -0.16499026,  0.28183584],\n",
       "       [ 2.10761114,  0.37228787,  0.02729113],\n",
       "       [ 2.31415471,  0.18365128,  0.32269375],\n",
       "       [ 1.9222678 ,  0.40920347,  0.1135866 ],\n",
       "       [ 1.41523588, -0.57491635,  0.29632253],\n",
       "       [ 2.56301338,  0.2778626 ,  0.29256952],\n",
       "       [ 2.41874618,  0.3047982 ,  0.50448266],\n",
       "       [ 1.94410979,  0.1875323 ,  0.17782509],\n",
       "       [ 1.52716661, -0.37531698, -0.12189817],\n",
       "       [ 1.76434572,  0.07885885,  0.13048163],\n",
       "       [ 1.90094161,  0.11662796,  0.72325156],\n",
       "       [ 1.39018886, -0.28266094,  0.36290965]])"
      ]
     },
     "execution_count": 14,
     "metadata": {},
     "output_type": "execute_result"
    }
   ],
   "source": [
    "#最大似然估计自选超参数\n",
    "pca_mle = PCA(n_components=\"mle\")\n",
    "pca_mle = pca_mle.fit(X)\n",
    "X_mle = pca_mle.transform(X)\n",
    "X_mle\n",
    "#代码给出的结果是3维"
   ]
  },
  {
   "cell_type": "code",
   "execution_count": 16,
   "metadata": {},
   "outputs": [
    {
     "name": "stdout",
     "output_type": "stream",
     "text": [
      "[0.92461872 0.05306648]\n",
      "[0.92461872 0.05306648 0.01710261]\n"
     ]
    }
   ],
   "source": [
    "pca_f = PCA(n_components=0.97,svd_solver=\"full\")\n",
    "pca_f = pca_f.fit(X)\n",
    "X_f = pca_f.transform(X)\n",
    "print(pca_f.explained_variance_ratio_)\n",
    "#0.97 二维\n",
    "\n",
    "pca_f = PCA(n_components=0.99,svd_solver=\"full\")\n",
    "pca_f = pca_f.fit(X)\n",
    "X_f = pca_f.transform(X)\n",
    "print(pca_f.explained_variance_ratio_)\n",
    "#0.99 三维"
   ]
  },
  {
   "cell_type": "markdown",
   "metadata": {},
   "source": [
    "# 现在对红酒数据进行降维"
   ]
  },
  {
   "cell_type": "code",
   "execution_count": 7,
   "metadata": {},
   "outputs": [
    {
     "data": {
      "text/plain": [
       "{'DESCR': '.. _wine_dataset:\\n\\nWine recognition dataset\\n------------------------\\n\\n**Data Set Characteristics:**\\n\\n    :Number of Instances: 178 (50 in each of three classes)\\n    :Number of Attributes: 13 numeric, predictive attributes and the class\\n    :Attribute Information:\\n \\t\\t- Alcohol\\n \\t\\t- Malic acid\\n \\t\\t- Ash\\n\\t\\t- Alcalinity of ash  \\n \\t\\t- Magnesium\\n\\t\\t- Total phenols\\n \\t\\t- Flavanoids\\n \\t\\t- Nonflavanoid phenols\\n \\t\\t- Proanthocyanins\\n\\t\\t- Color intensity\\n \\t\\t- Hue\\n \\t\\t- OD280/OD315 of diluted wines\\n \\t\\t- Proline\\n\\n    - class:\\n            - class_0\\n            - class_1\\n            - class_2\\n\\t\\t\\n    :Summary Statistics:\\n    \\n    ============================= ==== ===== ======= =====\\n                                   Min   Max   Mean     SD\\n    ============================= ==== ===== ======= =====\\n    Alcohol:                      11.0  14.8    13.0   0.8\\n    Malic Acid:                   0.74  5.80    2.34  1.12\\n    Ash:                          1.36  3.23    2.36  0.27\\n    Alcalinity of Ash:            10.6  30.0    19.5   3.3\\n    Magnesium:                    70.0 162.0    99.7  14.3\\n    Total Phenols:                0.98  3.88    2.29  0.63\\n    Flavanoids:                   0.34  5.08    2.03  1.00\\n    Nonflavanoid Phenols:         0.13  0.66    0.36  0.12\\n    Proanthocyanins:              0.41  3.58    1.59  0.57\\n    Colour Intensity:              1.3  13.0     5.1   2.3\\n    Hue:                          0.48  1.71    0.96  0.23\\n    OD280/OD315 of diluted wines: 1.27  4.00    2.61  0.71\\n    Proline:                       278  1680     746   315\\n    ============================= ==== ===== ======= =====\\n\\n    :Missing Attribute Values: None\\n    :Class Distribution: class_0 (59), class_1 (71), class_2 (48)\\n    :Creator: R.A. Fisher\\n    :Donor: Michael Marshall (MARSHALL%PLU@io.arc.nasa.gov)\\n    :Date: July, 1988\\n\\nThis is a copy of UCI ML Wine recognition datasets.\\nhttps://archive.ics.uci.edu/ml/machine-learning-databases/wine/wine.data\\n\\nThe data is the results of a chemical analysis of wines grown in the same\\nregion in Italy by three different cultivators. There are thirteen different\\nmeasurements taken for different constituents found in the three types of\\nwine.\\n\\nOriginal Owners: \\n\\nForina, M. et al, PARVUS - \\nAn Extendible Package for Data Exploration, Classification and Correlation. \\nInstitute of Pharmaceutical and Food Analysis and Technologies,\\nVia Brigata Salerno, 16147 Genoa, Italy.\\n\\nCitation:\\n\\nLichman, M. (2013). UCI Machine Learning Repository\\n[https://archive.ics.uci.edu/ml]. Irvine, CA: University of California,\\nSchool of Information and Computer Science. \\n\\n.. topic:: References\\n\\n  (1) S. Aeberhard, D. Coomans and O. de Vel, \\n  Comparison of Classifiers in High Dimensional Settings, \\n  Tech. Rep. no. 92-02, (1992), Dept. of Computer Science and Dept. of  \\n  Mathematics and Statistics, James Cook University of North Queensland. \\n  (Also submitted to Technometrics). \\n\\n  The data was used with many others for comparing various \\n  classifiers. The classes are separable, though only RDA \\n  has achieved 100% correct classification. \\n  (RDA : 100%, QDA 99.4%, LDA 98.9%, 1NN 96.1% (z-transformed data)) \\n  (All results using the leave-one-out technique) \\n\\n  (2) S. Aeberhard, D. Coomans and O. de Vel, \\n  \"THE CLASSIFICATION PERFORMANCE OF RDA\" \\n  Tech. Rep. no. 92-01, (1992), Dept. of Computer Science and Dept. of \\n  Mathematics and Statistics, James Cook University of North Queensland. \\n  (Also submitted to Journal of Chemometrics).\\n',\n",
       " 'data': array([[1.423e+01, 1.710e+00, 2.430e+00, ..., 1.040e+00, 3.920e+00,\n",
       "         1.065e+03],\n",
       "        [1.320e+01, 1.780e+00, 2.140e+00, ..., 1.050e+00, 3.400e+00,\n",
       "         1.050e+03],\n",
       "        [1.316e+01, 2.360e+00, 2.670e+00, ..., 1.030e+00, 3.170e+00,\n",
       "         1.185e+03],\n",
       "        ...,\n",
       "        [1.327e+01, 4.280e+00, 2.260e+00, ..., 5.900e-01, 1.560e+00,\n",
       "         8.350e+02],\n",
       "        [1.317e+01, 2.590e+00, 2.370e+00, ..., 6.000e-01, 1.620e+00,\n",
       "         8.400e+02],\n",
       "        [1.413e+01, 4.100e+00, 2.740e+00, ..., 6.100e-01, 1.600e+00,\n",
       "         5.600e+02]]),\n",
       " 'feature_names': ['alcohol',\n",
       "  'malic_acid',\n",
       "  'ash',\n",
       "  'alcalinity_of_ash',\n",
       "  'magnesium',\n",
       "  'total_phenols',\n",
       "  'flavanoids',\n",
       "  'nonflavanoid_phenols',\n",
       "  'proanthocyanins',\n",
       "  'color_intensity',\n",
       "  'hue',\n",
       "  'od280/od315_of_diluted_wines',\n",
       "  'proline'],\n",
       " 'target': array([0, 0, 0, 0, 0, 0, 0, 0, 0, 0, 0, 0, 0, 0, 0, 0, 0, 0, 0, 0, 0, 0,\n",
       "        0, 0, 0, 0, 0, 0, 0, 0, 0, 0, 0, 0, 0, 0, 0, 0, 0, 0, 0, 0, 0, 0,\n",
       "        0, 0, 0, 0, 0, 0, 0, 0, 0, 0, 0, 0, 0, 0, 0, 1, 1, 1, 1, 1, 1, 1,\n",
       "        1, 1, 1, 1, 1, 1, 1, 1, 1, 1, 1, 1, 1, 1, 1, 1, 1, 1, 1, 1, 1, 1,\n",
       "        1, 1, 1, 1, 1, 1, 1, 1, 1, 1, 1, 1, 1, 1, 1, 1, 1, 1, 1, 1, 1, 1,\n",
       "        1, 1, 1, 1, 1, 1, 1, 1, 1, 1, 1, 1, 1, 1, 1, 1, 1, 1, 1, 1, 2, 2,\n",
       "        2, 2, 2, 2, 2, 2, 2, 2, 2, 2, 2, 2, 2, 2, 2, 2, 2, 2, 2, 2, 2, 2,\n",
       "        2, 2, 2, 2, 2, 2, 2, 2, 2, 2, 2, 2, 2, 2, 2, 2, 2, 2, 2, 2, 2, 2,\n",
       "        2, 2]),\n",
       " 'target_names': array(['class_0', 'class_1', 'class_2'], dtype='<U7')}"
      ]
     },
     "execution_count": 7,
     "metadata": {},
     "output_type": "execute_result"
    }
   ],
   "source": [
    "from sklearn.datasets import load_wine\n",
    "wine=load_wine()\n",
    "X1=wine.data\n",
    "Y1=wine.target\n",
    "wine"
   ]
  },
  {
   "cell_type": "code",
   "execution_count": 8,
   "metadata": {},
   "outputs": [
    {
     "name": "stdout",
     "output_type": "stream",
     "text": [
      "[1, 2, 3, 4, 5, 6, 7, 8, 9, 10, 11, 12, 13]\n"
     ]
    }
   ],
   "source": [
    "#由于红酒数据集data有13列，所以生成一个[1-13]的列表\n",
    "def createList():\n",
    "    L = []\n",
    "    for i in range(1,14):\n",
    "        L = L + [i]\n",
    "    return L\n",
    "list_line1=createList()\n",
    "print(list_line1)"
   ]
  },
  {
   "cell_type": "code",
   "execution_count": 9,
   "metadata": {},
   "outputs": [
    {
     "data": {
      "text/plain": [
       "array([9.98091230e-01, 1.73591562e-03, 9.49589576e-05, 5.02173562e-05,\n",
       "       1.23636847e-05, 8.46213034e-06, 2.80681456e-06, 1.52308053e-06,\n",
       "       1.12783044e-06, 7.21415811e-07, 3.78060267e-07, 2.12013755e-07,\n",
       "       8.25392788e-08])"
      ]
     },
     "execution_count": 9,
     "metadata": {},
     "output_type": "execute_result"
    }
   ],
   "source": [
    "#查看累积可解释方差贡献率曲线\n",
    "import numpy as np\n",
    "pca_line1=PCA().fit(X1)\n",
    "pca_line1.explained_variance_ratio_"
   ]
  },
  {
   "cell_type": "code",
   "execution_count": 10,
   "metadata": {},
   "outputs": [
    {
     "data": {
      "text/plain": [
       "Text(0, 0.5, 'cumulative explained variance')"
      ]
     },
     "execution_count": 10,
     "metadata": {},
     "output_type": "execute_result"
    },
    {
     "data": {
      "image/png": "[encoded data removed]",
      "text/plain": [
       "<Figure size 432x288 with 1 Axes>"
      ]
     },
     "metadata": {},
     "output_type": "display_data"
    }
   ],
   "source": [
    "plt.plot(list_line1,np.cumsum(pca_line1.explained_variance_ratio_))\n",
    "plt.xticks(list_line1) #这是为了限制坐标轴显示为整数\n",
    "plt.xlabel(\"number of components after dimension reduction\")\n",
    "plt.ylabel(\"cumulative explained variance\")\n",
    "#由结果可知，二维、三维都可，这里选二维（好画图）"
   ]
  },
  {
   "cell_type": "code",
   "execution_count": 11,
   "metadata": {},
   "outputs": [
    {
     "data": {
      "text/plain": [
       "array([[ 3.18562979e+02,  2.14921307e+01],\n",
       "       [ 3.03097420e+02, -5.36471768e+00],\n",
       "       [ 4.38061133e+02, -6.53730945e+00],\n",
       "       [ 7.33240139e+02,  1.92729032e-01],\n",
       "       [-1.15714285e+01,  1.84899946e+01],\n",
       "       [ 7.03231192e+02, -3.32158674e-01],\n",
       "       [ 5.42971581e+02, -1.35189666e+01],\n",
       "       [ 5.48401860e+02,  1.14494324e+01],\n",
       "       [ 2.98036863e+02, -8.18015784e+00],\n",
       "       [ 2.98049553e+02, -7.10154294e+00],\n",
       "       [ 7.63079712e+02, -8.33431723e+00],\n",
       "       [ 5.32943228e+02, -1.42876338e+01],\n",
       "       [ 5.72834410e+02, -2.10050143e+01],\n",
       "       [ 4.02925358e+02, -1.61026352e+01],\n",
       "       [ 8.00053394e+02, -1.21184472e+01],\n",
       "       [ 5.63245578e+02,  2.21482866e+00],\n",
       "       [ 5.33379651e+02,  1.08048022e+01],\n",
       "       [ 3.83317591e+02,  8.47741982e+00],\n",
       "       [ 9.33118387e+02, -8.35447844e+00],\n",
       "       [ 9.84031775e+01,  1.43926594e+01],\n",
       "       [ 3.35935940e+01,  2.55679565e+01],\n",
       "       [ 2.31464375e+01,  1.81747309e+00],\n",
       "       [ 2.88093030e+02, -3.96304175e+00],\n",
       "       [ 2.67981513e+02, -9.57070401e+00],\n",
       "       [ 9.80198858e+01, -5.49584606e+00],\n",
       "       [ 8.34987440e+01,  2.28916215e+01],\n",
       "       [ 4.47925596e+02, -1.47973313e+01],\n",
       "       [ 5.37919165e+02, -1.53883461e+01],\n",
       "       [ 1.68210468e+02,  4.25531096e+00],\n",
       "       [ 2.88008247e+02, -8.95973155e+00],\n",
       "       [ 5.38026452e+02, -8.21273882e+00],\n",
       "       [ 7.68092939e+02, -7.37989737e+00],\n",
       "       [ 2.43150751e+02, -1.43914928e-01],\n",
       "       [ 4.88601280e+02,  2.35653250e+01],\n",
       "       [ 3.48231007e+02,  4.03808015e+00],\n",
       "       [ 1.73079957e+02, -2.79292165e+00],\n",
       "       [ 1.33286424e+02,  7.77272958e+00],\n",
       "       [ 3.58018559e+02, -8.15798412e+00],\n",
       "       [ 2.73044432e+02, -6.72507431e+00],\n",
       "       [ 1.36430021e+01,  2.78468321e+01],\n",
       "       [ 4.84296422e+01,  1.63219498e+01],\n",
       "       [ 2.87884092e+02, -1.48851185e+01],\n",
       "       [ 3.48095348e+02, -5.04342609e+00],\n",
       "       [-6.68146554e+01,  4.38482992e+00],\n",
       "       [ 1.38227010e+02,  4.73068836e+00],\n",
       "       [ 3.33254806e+02,  5.31933116e+00],\n",
       "       [ 3.18111848e+02, -3.48694494e+00],\n",
       "       [ 2.38111485e+02, -3.05152100e+00],\n",
       "       [ 3.13119915e+02, -2.30536316e+00],\n",
       "       [ 5.13187748e+02, -8.63759235e-01],\n",
       "       [ 4.02939017e+02, -1.50533028e+01],\n",
       "       [ 5.17928963e+02, -1.49975549e+01],\n",
       "       [ 4.43266411e+02,  3.26050204e+00],\n",
       "       [ 6.28286071e+02,  4.04114538e+00],\n",
       "       [ 3.13397613e+02,  1.26089135e+01],\n",
       "       [ 3.73333291e+02,  9.66419863e+00],\n",
       "       [ 2.23417106e+02,  1.42168924e+01],\n",
       "       [ 5.23072851e+02, -7.09662526e+00],\n",
       "       [ 5.38182097e+02, -1.35678013e+00],\n",
       "       [-2.27032690e+02, -7.99496797e+00],\n",
       "       [-6.68501220e+01,  2.31986654e+00],\n",
       "       [-2.96824437e+02,  5.46847570e+00],\n",
       "       [-1.16970473e+02, -3.72638342e+00],\n",
       "       [-3.27059126e+02, -6.94813081e+00],\n",
       "       [-3.91752486e+02,  1.11716783e+01],\n",
       "       [-6.89057604e+01, -5.58620537e-01],\n",
       "       [-2.45212524e+02, -1.74936393e+01],\n",
       "       [-2.37241410e+02, -1.75310256e+01],\n",
       "       [ 3.29615599e+00,  1.00958116e+01],\n",
       "       [-2.79661207e+01,  5.16301252e+01],\n",
       "       [ 1.23130138e+02,  1.05983451e+00],\n",
       "       [-3.37104122e+02, -7.62385512e+00],\n",
       "       [-2.75096026e+02, -7.75315213e+00],\n",
       "       [ 2.38716757e+02,  3.52518274e+01],\n",
       "       [ 1.39094057e+02, -1.20747620e+00],\n",
       "       [-3.18876329e+02,  2.81077113e+00],\n",
       "       [-3.55060253e+02, -7.53070183e+00],\n",
       "       [-2.46633597e+02,  1.65584367e+01],\n",
       "       [ 3.77168966e+00,  3.60310924e+01],\n",
       "       [-2.83842248e+02,  6.36186080e+00],\n",
       "       [-4.69059350e+02, -5.45892398e+00],\n",
       "       [-3.31313392e+01, -1.31871050e+01],\n",
       "       [-1.17290392e+02, -1.95786125e+01],\n",
       "       [-2.32132988e+02, -1.05301033e+01],\n",
       "       [-2.26953299e+02, -1.77605879e+00],\n",
       "       [-2.96852152e+02,  4.45280309e+00],\n",
       "       [-2.52046392e+02, -5.21261759e+00],\n",
       "       [-1.85108857e+02, -8.31858202e+00],\n",
       "       [-6.71807518e+01, -1.45246902e+01],\n",
       "       [-1.22431326e+02, -2.75040387e+01],\n",
       "       [-2.67185333e+02, -1.40538901e+01],\n",
       "       [-2.97104415e+02, -8.41503161e+00],\n",
       "       [-2.52213885e+02, -1.52515702e+01],\n",
       "       [-4.57022215e+02, -3.69733793e+00],\n",
       "       [-4.01851274e+02,  5.33140022e+00],\n",
       "       [ 1.91183397e+02,  5.87937624e+01],\n",
       "       [-1.21279178e+02,  3.64175149e+01],\n",
       "       [-3.19088273e+02, -9.19307820e+00],\n",
       "       [-8.70802926e+01, -1.02265727e+01],\n",
       "       [-3.41040900e+02, -5.75056559e+00],\n",
       "       [-3.69316146e+01, -2.17041593e+00],\n",
       "       [-1.85073713e+02, -8.52051902e+00],\n",
       "       [-3.08882387e+02,  3.75165655e+00],\n",
       "       [-3.32089296e+02, -7.88372875e+00],\n",
       "       [-7.51531378e+01, -1.34138279e+01],\n",
       "       [-4.32009742e+02, -2.03294673e+00],\n",
       "       [-2.37206697e+02, -1.55619679e+01],\n",
       "       [-2.59148368e+02, -1.10788163e+01],\n",
       "       [-4.34957780e+02, -5.95260295e-02],\n",
       "       [-6.69906958e+01, -4.57145764e+00],\n",
       "       [-1.84736439e+02,  1.05164632e+01],\n",
       "       [-4.22042874e+02, -4.24492194e+00],\n",
       "       [-1.39818663e+02,  5.73555207e+00],\n",
       "       [-3.13060948e+02, -6.16709401e+00],\n",
       "       [-3.62129633e+02, -9.25929540e+00],\n",
       "       [-3.40115006e+02, -8.68973443e+00],\n",
       "       [-2.52109472e+02, -9.27587015e+00],\n",
       "       [-4.01695973e+02,  1.54258903e+01],\n",
       "       [-3.75171092e+02, -1.31850503e+01],\n",
       "       [-1.83097929e+02, -9.55354432e+00],\n",
       "       [-1.21945241e+02, -1.58889428e+00],\n",
       "       [-2.81534569e+02,  2.45082612e+01],\n",
       "       [-3.81826778e+02,  9.18910976e+00],\n",
       "       [-3.67089380e+02, -7.18821589e+00],\n",
       "       [-3.67157175e+02, -1.11963202e+01],\n",
       "       [-3.69103601e+02, -8.17580491e+00],\n",
       "       [-3.95078836e+02, -6.67983187e+00],\n",
       "       [-2.81030369e+02, -2.53586007e+00],\n",
       "       [-4.05061288e+02, -4.45107367e+00],\n",
       "       [-1.67237642e+02, -1.67311857e+01],\n",
       "       [-1.16473000e+02,  2.42660201e+01],\n",
       "       [-2.16784540e+02,  8.13044956e+00],\n",
       "       [-1.86915112e+02,  1.71005736e+00],\n",
       "       [-1.46769530e+02,  8.92033411e+00],\n",
       "       [-9.71329736e+01, -1.30582838e+01],\n",
       "       [-5.19820469e+01, -4.81229310e+00],\n",
       "       [-2.70979307e+01, -1.02299962e+01],\n",
       "       [-2.31951534e+02,  5.34907410e-01],\n",
       "       [-1.67076246e+02, -8.75672311e+00],\n",
       "       [-1.56868045e+02,  4.16316249e+00],\n",
       "       [-1.46946490e+02, -1.09672896e+00],\n",
       "       [ 3.29042927e+01, -1.13053656e+01],\n",
       "       [-2.26926210e+02,  1.38827837e+00],\n",
       "       [-1.97004347e+02, -4.22842870e+00],\n",
       "       [ 1.08312677e+02,  1.03513304e+01],\n",
       "       [ 8.31182626e+01,  8.06869695e-01],\n",
       "       [-3.32195840e+02, -1.38132989e+01],\n",
       "       [-1.22126092e+02, -1.14699259e+01],\n",
       "       [-9.70193893e+01, -5.90644258e+00],\n",
       "       [-1.96624807e+02,  1.68731139e+01],\n",
       "       [-2.46449199e+02,  2.78100954e+01],\n",
       "       [-2.66628788e+02,  1.71502320e+01],\n",
       "       [-3.21570741e+02,  2.21643401e+01],\n",
       "       [-7.18976587e+01, -3.99656400e-01],\n",
       "       [-1.06816618e+02,  5.20612307e+00],\n",
       "       [-2.20202568e+01, -6.22943925e+00],\n",
       "       [-2.67031732e+02, -5.92308914e+00],\n",
       "       [ 1.32999841e+02, -4.86770544e+00],\n",
       "       [-8.69139986e+01,  7.96357772e-02],\n",
       "       [-1.27061290e+02, -8.29141684e+00],\n",
       "       [-2.27068836e+02, -7.61863030e+00],\n",
       "       [-6.67554312e+01,  8.47028990e+00],\n",
       "       [-1.76765098e+02,  9.47319000e+00],\n",
       "       [-7.17683979e+01,  7.51063784e+00],\n",
       "       [-1.32048248e+02, -7.25503031e+00],\n",
       "       [-2.27077845e+02, -7.59337930e+00],\n",
       "       [-5.16895065e+01,  1.23580850e+01],\n",
       "       [-6.20850111e+01, -1.05540153e+01],\n",
       "       [ 3.18276465e+00,  5.39136150e+00],\n",
       "       [-1.16674818e+02,  1.45333703e+01],\n",
       "       [-2.36921208e+02,  4.63036998e-01],\n",
       "       [-2.77083578e+02, -8.74033191e+00],\n",
       "       [-8.70274026e+01, -7.10459575e+00],\n",
       "       [-6.98021096e+00, -4.54113657e+00],\n",
       "       [ 3.13160468e+00,  2.33519051e+00],\n",
       "       [ 8.84580737e+01,  1.87762846e+01],\n",
       "       [ 9.34562419e+01,  1.86708191e+01],\n",
       "       [-1.86943190e+02, -2.13330803e-01]])"
      ]
     },
     "execution_count": 11,
     "metadata": {},
     "output_type": "execute_result"
    }
   ],
   "source": [
    "pca1=PCA(n_components=2)\n",
    "pca1=pca1.fit(X1)\n",
    "X_dr1=pca1.transform(X1)\n",
    "X_dr1"
   ]
  },
  {
   "cell_type": "code",
   "execution_count": 12,
   "metadata": {},
   "outputs": [
    {
     "data": {
      "image/png": "[encoded data removed]",
      "text/plain": [
       "<Figure size 432x288 with 1 Axes>"
      ]
     },
     "metadata": {},
     "output_type": "display_data"
    }
   ],
   "source": [
    "plt.figure()\n",
    "plt.scatter(X_dr1[Y1==0, 0], X_dr1[Y1==0, 1], c=\"red\",label=\"class1\")\n",
    "plt.scatter(X_dr1[Y1==1, 0], X_dr1[Y1==1, 1], c=\"black\",label=\"class2\")\n",
    "plt.scatter(X_dr1[Y1==2, 0], X_dr1[Y1==2, 1], c=\"orange\",label=\"class3\")\n",
    "plt.legend()\n",
    "plt.title('PCA of WINE dataset')\n",
    "plt.show()"
   ]
  },
  {
   "cell_type": "code",
   "execution_count": 13,
   "metadata": {},
   "outputs": [
    {
     "data": {
      "text/plain": [
       "array([[ 3.18562979e+02,  2.14921307e+01,  3.13073470e+00, ...,\n",
       "        -9.50075663e-02,  8.87340044e-02, -3.85475626e-02],\n",
       "       [ 3.03097420e+02, -5.36471768e+00,  6.82283550e+00, ...,\n",
       "        -4.57819758e-02,  3.97781862e-02, -5.71915771e-02],\n",
       "       [ 4.38061133e+02, -6.53730945e+00, -1.11322298e+00, ...,\n",
       "        -2.08959774e-01,  2.37770027e-01, -4.87978751e-02],\n",
       "       ...,\n",
       "       [ 8.84580737e+01,  1.87762846e+01, -2.23757651e+00, ...,\n",
       "        -4.53356039e-02, -2.23049341e-01,  9.60485020e-02],\n",
       "       [ 9.34562419e+01,  1.86708191e+01, -1.78839152e+00, ...,\n",
       "         5.92107103e-02, -3.04078323e-02, -5.20893107e-02],\n",
       "       [-1.86943190e+02, -2.13330803e-01, -5.63050984e+00, ...,\n",
       "         2.99079952e-01,  1.60725068e-01,  3.19201764e-02]])"
      ]
     },
     "execution_count": 13,
     "metadata": {},
     "output_type": "execute_result"
    }
   ],
   "source": [
    "#最大似然估计自选超参数\n",
    "pca_mle = PCA(n_components=\"mle\")\n",
    "pca_mle = pca_mle.fit(X1)\n",
    "X_mle = pca_mle.transform(X1)\n",
    "X_mle\n",
    "#很多维"
   ]
  },
  {
   "cell_type": "code",
   "execution_count": 14,
   "metadata": {},
   "outputs": [
    {
     "data": {
      "text/plain": [
       "array([0.92461872, 0.05306648, 0.01710261])"
      ]
     },
     "execution_count": 14,
     "metadata": {},
     "output_type": "execute_result"
    }
   ],
   "source": [
    "pca_f = PCA(n_components=0.99,svd_solver=\"full\")\n",
    "pca_f = pca_f.fit(X)\n",
    "X_f = pca_f.transform(X)\n",
    "pca_f.explained_variance_ratio_\n",
    "#0.99 三维"
   ]
  },
  {
   "cell_type": "code",
   "execution_count": null,
   "metadata": {},
   "outputs": [],
   "source": []
  }
 ],
 "metadata": {
  "kernelspec": {
   "display_name": "Python 3",
   "language": "python",
   "name": "python3"
  },
  "language_info": {
   "codemirror_mode": {
    "name": "ipython",
    "version": 3
   },
   "file_extension": ".py",
   "mimetype": "text/x-python",
   "name": "python",
   "nbconvert_exporter": "python",
   "pygments_lexer": "ipython3",
   "version": "3.6.8"
  }
 },
 "nbformat": 4,
 "nbformat_minor": 2
}
